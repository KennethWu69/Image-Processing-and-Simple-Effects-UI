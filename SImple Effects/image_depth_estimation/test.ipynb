{
 "cells": [
  {
   "cell_type": "code",
   "execution_count": 1,
   "metadata": {},
   "outputs": [],
   "source": [
    "import cv2"
   ]
  },
  {
   "cell_type": "code",
   "execution_count": null,
   "metadata": {},
   "outputs": [],
   "source": []
  },
  {
   "cell_type": "code",
   "execution_count": 16,
   "metadata": {},
   "outputs": [
    {
     "name": "stdout",
     "output_type": "stream",
     "text": [
      "5184 3456\n"
     ]
    }
   ],
   "source": [
    "file_path = 'test.jpg'\n",
    "img_tmp = cv2.imread(file_path)\n",
    "img_tmp = cv2.cvtColor(img_tmp, cv2.COLOR_RGBA2RGB)\n",
    "h, w = img_tmp.shape[0], img_tmp.shape[1]\n",
    "print(h, w)\n",
    "img_tmp = cv2.resize(img_tmp, (int(w/10), int(h/10)), interpolation=cv2.INTER_AREA)\n",
    "cv2.imshow('output', img_tmp)\n",
    "# h, w = img.shape[0], img.shape[1]\n",
    "# img = cv2.resize(img, (h*0.2, w*0.2))\n",
    "cv2.waitKey(0)\n",
    "cv2.destroyAllWindows()"
   ]
  },
  {
   "cell_type": "code",
   "execution_count": null,
   "metadata": {},
   "outputs": [],
   "source": [
    "while(True):\n",
    "    cv2.imshow()"
   ]
  }
 ],
 "metadata": {
  "interpreter": {
   "hash": "6d46af94c2bbce495f1e668725902fa517c90b1782bcfe2fce0dd9868df553d3"
  },
  "kernelspec": {
   "display_name": "Python 3.8.5 ('base')",
   "language": "python",
   "name": "python3"
  },
  "language_info": {
   "codemirror_mode": {
    "name": "ipython",
    "version": 3
   },
   "file_extension": ".py",
   "mimetype": "text/x-python",
   "name": "python",
   "nbconvert_exporter": "python",
   "pygments_lexer": "ipython3",
   "version": "3.8.5"
  },
  "orig_nbformat": 4
 },
 "nbformat": 4,
 "nbformat_minor": 2
}
